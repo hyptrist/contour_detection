{
 "cells": [
  {
   "cell_type": "code",
   "execution_count": 4,
   "metadata": {
    "id": "3qkAWmsjqVlI"
   },
   "outputs": [],
   "source": [
    "import cv2\n",
    "import numpy as np\n",
    "import matplotlib.pyplot as plt\n",
    "%matplotlib inline"
   ]
  },
  {
   "cell_type": "code",
   "execution_count": 5,
   "metadata": {
    "id": "r3uEt7-7qrKW"
   },
   "outputs": [],
   "source": [
    "def Detect_Image(image):\n",
    "  image = cv2.imread('Parle-G.jpg')\n",
    "  image = cv2.cvtColor(image, cv2.COLOR_BGR2RGB)\n",
    "  plt.imshow(image)\n",
    "  # Blurring for removing the noise \n",
    "  image_blur = cv2.bilateralFilter(image, d = 7, \n",
    "                               sigmaSpace = 75, sigmaColor =75)\n",
    "# Convert to grayscale \n",
    "  image_gray = cv2.cvtColor(image_blur, cv2.COLOR_RGB2GRAY)# Apply the thresholding\n",
    "  a = image_gray.max()  \n",
    "  _, thresh = cv2.threshold(image_gray, a/2+60, a,cv2.THRESH_BINARY_INV)\n",
    "  plt.imshow(thresh, cmap = 'gray')\n",
    "  # Find the contour of the figure \n",
    "  contours, hierarchy = cv2.findContours(thresh, cv2.RETR_TREE, cv2.CHAIN_APPROX_SIMPLE)\n",
    "  # Sort the contours \n",
    "  contours = sorted(contours, key = cv2.contourArea, reverse = True)# Draw the contour \n",
    "  image_copy = image.copy()\n",
    "  final = cv2.drawContours(image_copy, contours, contourIdx = -1, \n",
    "                         color = (255, 0, 0), thickness = 2)\n",
    "  plt.imshow(image_copy)\n",
    "  # The first order of the contours\n",
    "  c_0 = contours[0]# image moment\n",
    "  M = cv2.moments(c_0)\n",
    "  print(M.keys())\n",
    "  # The area of contours \n",
    "  print(\"Area of the 1st Contour : \", cv2.contourArea(contours[0])) \n",
    "  print(\"Area of the 2nd Contour : \", cv2.contourArea(contours[1])) \n",
    "  print(\"Area of the 3rd Contour : \", cv2.contourArea(contours[2]))\n",
    "  # The arc length of contours \n",
    "  print(cv2.arcLength(contours[0], closed = True)) \n",
    "  print(cv2.arcLength(contours[0], closed = False))\n",
    "  # The centroid point\n",
    "  cx = int(M['m10'] / M['m00'])\n",
    "  cy = int(M['m01'] / M['m00'])\n",
    "  # The extreme points\n",
    "  l_m = tuple(c_0[c_0[:, :, 0].argmin()][0])\n",
    "  r_m = tuple(c_0[c_0[:, :, 0].argmax()][0])\n",
    "  t_m = tuple(c_0[c_0[:, :, 1].argmin()][0])\n",
    "  b_m = tuple(c_0[c_0[:, :, 1].argmax()][0])\n",
    "  pst = [l_m, r_m, t_m, b_m]\n",
    "  xcor = [p[0] for p in pst]\n",
    "  ycor = [p[1] for p in pst]\n",
    "  # The first order of the contours\n",
    "  c_0 = contours[0]# Get the 4 points of the bounding rectangle\n",
    "  x, y, w, h = cv2.boundingRect(c_0)# Draw a straight rectangle with the points\n",
    "  image_copy = image.copy()\n",
    "  image_box = cv2.rectangle(image_copy, (x, y), (x+w, y+h), color = (255, 0, 0), thickness = 2)\n",
    "  # Get the 4 points of the bounding rectangle with the minimum area\n",
    "  rect = cv2.minAreaRect(c_0)\n",
    "  box = cv2.boxPoints(rect)\n",
    "  box = box.astype('int')# Draw a contour with the points \n",
    "  image_copy = image.copy()\n",
    "  image_box_2 = cv2.drawContours(image_copy, contours = [box], \n",
    "                             contourIdx = -1, \n",
    "                             color = (255, 0, 0), thickness = 2)\n",
    "  plt.figure(figsize = (10, 16))\n",
    "  plt.subplot(1, 2, 1); plt.imshow(image_box)\n",
    "  plt.subplot(1, 2, 2); plt.imshow(image_box_2)\n",
    "  # Detect the convex contour\n",
    "  hull = cv2.convexHull(c_0)\n",
    "  image_copy = image.copy()\n",
    "  image_hull = cv2.drawContours(image_copy, contours = [hull], \n",
    "                            contourIdx = 0, \n",
    "                            color = (255, 0, 0), thickness = 2)\n",
    "  diaplay_img = plt.imshow(image_hull)\n",
    "  return diaplay_img"
   ]
  },
  {
   "cell_type": "code",
   "execution_count": 6,
   "metadata": {
    "colab": {
     "base_uri": "https://localhost:8080/",
     "height": 605
    },
    "id": "klnmIQWuva80",
    "outputId": "be3facd1-53a4-463a-a773-c79778f1601a"
   },
   "outputs": [
    {
     "ename": "error",
     "evalue": "OpenCV(4.5.1) /private/var/folders/nz/vv4_9tw56nv9k3tkvyszvwg80000gn/T/pip-req-build-yaf6rry6/opencv/modules/imgproc/src/color.cpp:182: error: (-215:Assertion failed) !_src.empty() in function 'cvtColor'\n",
     "output_type": "error",
     "traceback": [
      "\u001b[0;31m---------------------------------------------------------------------------\u001b[0m",
      "\u001b[0;31merror\u001b[0m                                     Traceback (most recent call last)",
      "\u001b[0;32m<ipython-input-6-a28e27731433>\u001b[0m in \u001b[0;36m<module>\u001b[0;34m\u001b[0m\n\u001b[0;32m----> 1\u001b[0;31m \u001b[0mparle_g\u001b[0m \u001b[0;34m=\u001b[0m \u001b[0mDetect_Image\u001b[0m\u001b[0;34m(\u001b[0m\u001b[0;34m'Parle-G.jpg'\u001b[0m\u001b[0;34m)\u001b[0m\u001b[0;34m\u001b[0m\u001b[0;34m\u001b[0m\u001b[0m\n\u001b[0m",
      "\u001b[0;32m<ipython-input-5-3ab8386e4345>\u001b[0m in \u001b[0;36mDetect_Image\u001b[0;34m(image)\u001b[0m\n\u001b[1;32m      1\u001b[0m \u001b[0;32mdef\u001b[0m \u001b[0mDetect_Image\u001b[0m\u001b[0;34m(\u001b[0m\u001b[0mimage\u001b[0m\u001b[0;34m)\u001b[0m\u001b[0;34m:\u001b[0m\u001b[0;34m\u001b[0m\u001b[0;34m\u001b[0m\u001b[0m\n\u001b[1;32m      2\u001b[0m   \u001b[0mimage\u001b[0m \u001b[0;34m=\u001b[0m \u001b[0mcv2\u001b[0m\u001b[0;34m.\u001b[0m\u001b[0mimread\u001b[0m\u001b[0;34m(\u001b[0m\u001b[0;34m'Parle-G.jpg'\u001b[0m\u001b[0;34m)\u001b[0m\u001b[0;34m\u001b[0m\u001b[0;34m\u001b[0m\u001b[0m\n\u001b[0;32m----> 3\u001b[0;31m   \u001b[0mimage\u001b[0m \u001b[0;34m=\u001b[0m \u001b[0mcv2\u001b[0m\u001b[0;34m.\u001b[0m\u001b[0mcvtColor\u001b[0m\u001b[0;34m(\u001b[0m\u001b[0mimage\u001b[0m\u001b[0;34m,\u001b[0m \u001b[0mcv2\u001b[0m\u001b[0;34m.\u001b[0m\u001b[0mCOLOR_BGR2RGB\u001b[0m\u001b[0;34m)\u001b[0m\u001b[0;34m\u001b[0m\u001b[0;34m\u001b[0m\u001b[0m\n\u001b[0m\u001b[1;32m      4\u001b[0m   \u001b[0mplt\u001b[0m\u001b[0;34m.\u001b[0m\u001b[0mimshow\u001b[0m\u001b[0;34m(\u001b[0m\u001b[0mimage\u001b[0m\u001b[0;34m)\u001b[0m\u001b[0;34m\u001b[0m\u001b[0;34m\u001b[0m\u001b[0m\n\u001b[1;32m      5\u001b[0m   \u001b[0;31m# Blurring for removing the noise\u001b[0m\u001b[0;34m\u001b[0m\u001b[0;34m\u001b[0m\u001b[0;34m\u001b[0m\u001b[0m\n",
      "\u001b[0;31merror\u001b[0m: OpenCV(4.5.1) /private/var/folders/nz/vv4_9tw56nv9k3tkvyszvwg80000gn/T/pip-req-build-yaf6rry6/opencv/modules/imgproc/src/color.cpp:182: error: (-215:Assertion failed) !_src.empty() in function 'cvtColor'\n"
     ]
    }
   ],
   "source": [
    "parle_g = Detect_Image('Parle-G.jpg')"
   ]
  },
  {
   "cell_type": "code",
   "execution_count": null,
   "metadata": {},
   "outputs": [],
   "source": []
  }
 ],
 "metadata": {
  "colab": {
   "name": "Contour_detection_Function",
   "provenance": []
  },
  "kernelspec": {
   "display_name": "Python 3",
   "language": "python",
   "name": "python3"
  },
  "language_info": {
   "codemirror_mode": {
    "name": "ipython",
    "version": 3
   },
   "file_extension": ".py",
   "mimetype": "text/x-python",
   "name": "python",
   "nbconvert_exporter": "python",
   "pygments_lexer": "ipython3",
   "version": "3.9.4"
  }
 },
 "nbformat": 4,
 "nbformat_minor": 1
}
